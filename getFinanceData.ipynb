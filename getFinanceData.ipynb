{
  "nbformat": 4,
  "nbformat_minor": 0,
  "metadata": {
    "colab": {
      "name": "getFinanceDataAPI",
      "provenance": [],
      "authorship_tag": "ABX9TyNGRx3mej+WbGp4Y8+xbydl",
      "include_colab_link": true
    },
    "kernelspec": {
      "name": "python3",
      "display_name": "Python 3"
    },
    "language_info": {
      "name": "python"
    }
  },
  "cells": [
    {
      "cell_type": "markdown",
      "metadata": {
        "id": "view-in-github",
        "colab_type": "text"
      },
      "source": [
        "<a href=\"https://colab.research.google.com/github/caxios/PythonPlayground/blob/main/getFinanceData.ipynb\" target=\"_parent\"><img src=\"https://colab.research.google.com/assets/colab-badge.svg\" alt=\"Open In Colab\"/></a>"
      ]
    },
    {
      "cell_type": "code",
      "source": [
        "import requests\n",
        "import pandas as pd\n",
        "import plotly.graph_objects as go\n",
        "from plotly.subplots import make_subplots"
      ],
      "metadata": {
        "id": "0N49-NfxsNgp"
      },
      "execution_count": null,
      "outputs": []
    },
    {
      "cell_type": "code",
      "execution_count": null,
      "metadata": {
        "id": "E5YUplBwqQR6"
      },
      "outputs": [],
      "source": [
        "def get_all_tickers(header):\n",
        "  #It returns all comapies's tickers that is available from sec-api\n",
        "  headers = {\"User-Agent\":f\"{header}\"}\n",
        "  tickers_cik = requests.get(\"https://www.sec.gov/files/company_tickers.json\", headers=headers)\n",
        "  return tickers_cik.json()"
      ]
    },
    {
      "cell_type": "code",
      "source": [
        "def get_financial_data(header, cik, us_gapp_element, sort_by):\n",
        "  #It rerturns a timeseries pandas dataframe of seleceted us_gapp_element\n",
        "  headers = {\"User-Agent\":header}\n",
        "  response = requests.get(f\"https://data.sec.gov/api/xbrl/companyconcept/CIK{cik}/us-gaap/{us_gapp_element}.json\", headers=headers)\n",
        "  timeseries = pd.json_normalize(response.json()[\"units\"][\"USD\"])\n",
        "  timeseries[\"filed\"] = pd.to_datetime(timeseries[\"filed\"])\n",
        "  timeseries = timeseries.sort_values(sort_by)\n",
        "  timeseries = timeseries.iloc[::2, 7]\n",
        "  return timeseries"
      ],
      "metadata": {
        "id": "CbxrpSFqJKla"
      },
      "execution_count": null,
      "outputs": []
    },
    {
      "cell_type": "code",
      "source": [
        "def show_plot(timeseries, x_sortBy, y_sortBy, plot_title, x_axis_name, y_axis_name):\n",
        "  #It plots timeseries of given timeseries data.\n",
        "  fig = make_subplots(specs=[[{\"secondary_y\": True}]])\n",
        "  fig.add_trace(go.Scatter(\n",
        "      x=timeseries[x_sortBy],\n",
        "      y=timeseries[y_sortBy],\n",
        "      name='Income (USD)',\n",
        "  ))\n",
        "  fig.update_layout(\n",
        "      width=1000,\n",
        "      height=700,\n",
        "      paper_bgcolor='white',\n",
        "      plot_bgcolor='#fafafa',\n",
        "      hovermode='closest',\n",
        "      title=plot_title,\n",
        "      xaxis = dict(\n",
        "          title=x_axis_name\n",
        "      ),\n",
        "      yaxis = dict(\n",
        "          title=y_axis_name\n",
        "      ),\n",
        "      showlegend=False)\n",
        "  fig.show()"
      ],
      "metadata": {
        "id": "BBmipyg1Ki9l"
      },
      "execution_count": null,
      "outputs": []
    },
    {
      "cell_type": "code",
      "source": [
        ""
      ],
      "metadata": {
        "id": "_RpD5cI6K4Kl"
      },
      "execution_count": null,
      "outputs": []
    }
  ]
}